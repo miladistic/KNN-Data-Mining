{
  "cells": [
    {
      "cell_type": "code",
      "execution_count": 1,
      "metadata": {
        "id": "4MJ35M-xJQiQ"
      },
      "outputs": [],
      "source": [
        "import pandas as pd\n",
        "import numpy as np\n",
        "import matplotlib.pyplot as plt"
      ]
    },
    {
      "cell_type": "code",
      "execution_count": 2,
      "metadata": {
        "id": "7XGijyKBJU6E"
      },
      "outputs": [],
      "source": [
        "df=pd.read_csv('Rice_Cammeo_Osmancik.csv')"
      ]
    },
    {
      "cell_type": "code",
      "execution_count": 3,
      "metadata": {
        "colab": {
          "base_uri": "https://localhost:8080/",
          "height": 206
        },
        "id": "4oV6FurtJh54",
        "outputId": "e4a42222-4262-45b6-9444-b5a5ee67f947"
      },
      "outputs": [
        {
          "data": {
            "text/html": [
              "<div>\n",
              "<style scoped>\n",
              "    .dataframe tbody tr th:only-of-type {\n",
              "        vertical-align: middle;\n",
              "    }\n",
              "\n",
              "    .dataframe tbody tr th {\n",
              "        vertical-align: top;\n",
              "    }\n",
              "\n",
              "    .dataframe thead th {\n",
              "        text-align: right;\n",
              "    }\n",
              "</style>\n",
              "<table border=\"1\" class=\"dataframe\">\n",
              "  <thead>\n",
              "    <tr style=\"text-align: right;\">\n",
              "      <th></th>\n",
              "      <th>Area</th>\n",
              "      <th>Perimeter</th>\n",
              "      <th>Major_Axis_Length</th>\n",
              "      <th>Minor_Axis_Length</th>\n",
              "      <th>Eccentricity</th>\n",
              "      <th>Convex_Area</th>\n",
              "      <th>Extent</th>\n",
              "      <th>Class</th>\n",
              "    </tr>\n",
              "  </thead>\n",
              "  <tbody>\n",
              "    <tr>\n",
              "      <th>0</th>\n",
              "      <td>15231</td>\n",
              "      <td>525.578979</td>\n",
              "      <td>229.749878</td>\n",
              "      <td>85.093788</td>\n",
              "      <td>0.928882</td>\n",
              "      <td>15617</td>\n",
              "      <td>0.572896</td>\n",
              "      <td>Cammeo</td>\n",
              "    </tr>\n",
              "    <tr>\n",
              "      <th>1</th>\n",
              "      <td>14656</td>\n",
              "      <td>494.311005</td>\n",
              "      <td>206.020065</td>\n",
              "      <td>91.730972</td>\n",
              "      <td>0.895405</td>\n",
              "      <td>15072</td>\n",
              "      <td>0.615436</td>\n",
              "      <td>Cammeo</td>\n",
              "    </tr>\n",
              "    <tr>\n",
              "      <th>2</th>\n",
              "      <td>14634</td>\n",
              "      <td>501.122009</td>\n",
              "      <td>214.106781</td>\n",
              "      <td>87.768288</td>\n",
              "      <td>0.912118</td>\n",
              "      <td>14954</td>\n",
              "      <td>0.693259</td>\n",
              "      <td>Cammeo</td>\n",
              "    </tr>\n",
              "    <tr>\n",
              "      <th>3</th>\n",
              "      <td>13176</td>\n",
              "      <td>458.342987</td>\n",
              "      <td>193.337387</td>\n",
              "      <td>87.448395</td>\n",
              "      <td>0.891861</td>\n",
              "      <td>13368</td>\n",
              "      <td>0.640669</td>\n",
              "      <td>Cammeo</td>\n",
              "    </tr>\n",
              "    <tr>\n",
              "      <th>4</th>\n",
              "      <td>14688</td>\n",
              "      <td>507.166992</td>\n",
              "      <td>211.743378</td>\n",
              "      <td>89.312454</td>\n",
              "      <td>0.906691</td>\n",
              "      <td>15262</td>\n",
              "      <td>0.646024</td>\n",
              "      <td>Cammeo</td>\n",
              "    </tr>\n",
              "  </tbody>\n",
              "</table>\n",
              "</div>"
            ],
            "text/plain": [
              "    Area   Perimeter  Major_Axis_Length  Minor_Axis_Length  Eccentricity  \\\n",
              "0  15231  525.578979         229.749878          85.093788      0.928882   \n",
              "1  14656  494.311005         206.020065          91.730972      0.895405   \n",
              "2  14634  501.122009         214.106781          87.768288      0.912118   \n",
              "3  13176  458.342987         193.337387          87.448395      0.891861   \n",
              "4  14688  507.166992         211.743378          89.312454      0.906691   \n",
              "\n",
              "   Convex_Area    Extent   Class  \n",
              "0        15617  0.572896  Cammeo  \n",
              "1        15072  0.615436  Cammeo  \n",
              "2        14954  0.693259  Cammeo  \n",
              "3        13368  0.640669  Cammeo  \n",
              "4        15262  0.646024  Cammeo  "
            ]
          },
          "execution_count": 3,
          "metadata": {},
          "output_type": "execute_result"
        }
      ],
      "source": [
        "df.head()"
      ]
    },
    {
      "cell_type": "markdown",
      "metadata": {
        "id": "12NALYT4Jz-g"
      },
      "source": [
        "## Dataframe information review"
      ]
    },
    {
      "cell_type": "code",
      "execution_count": 4,
      "metadata": {
        "colab": {
          "base_uri": "https://localhost:8080/"
        },
        "id": "8apuS9D3Jk1S",
        "outputId": "0775a214-4e38-4328-8f3a-3b5c14b8b6ba"
      },
      "outputs": [
        {
          "name": "stdout",
          "output_type": "stream",
          "text": [
            "<class 'pandas.core.frame.DataFrame'>\n",
            "RangeIndex: 3810 entries, 0 to 3809\n",
            "Data columns (total 8 columns):\n",
            " #   Column             Non-Null Count  Dtype  \n",
            "---  ------             --------------  -----  \n",
            " 0   Area               3810 non-null   int64  \n",
            " 1   Perimeter          3810 non-null   float64\n",
            " 2   Major_Axis_Length  3810 non-null   float64\n",
            " 3   Minor_Axis_Length  3810 non-null   float64\n",
            " 4   Eccentricity       3810 non-null   float64\n",
            " 5   Convex_Area        3810 non-null   int64  \n",
            " 6   Extent             3810 non-null   float64\n",
            " 7   Class              3810 non-null   object \n",
            "dtypes: float64(5), int64(2), object(1)\n",
            "memory usage: 238.2+ KB\n"
          ]
        }
      ],
      "source": [
        "df.info()"
      ]
    },
    {
      "cell_type": "markdown",
      "metadata": {
        "id": "M4e0Y2GQKWRt"
      },
      "source": [
        "## Is NULL?"
      ]
    },
    {
      "cell_type": "code",
      "execution_count": 5,
      "metadata": {
        "colab": {
          "base_uri": "https://localhost:8080/"
        },
        "id": "6ZGHiST0JvFt",
        "outputId": "8618bf36-42b2-4d5f-e395-a4b98640be90"
      },
      "outputs": [
        {
          "data": {
            "text/plain": [
              "Area                 0\n",
              "Perimeter            0\n",
              "Major_Axis_Length    0\n",
              "Minor_Axis_Length    0\n",
              "Eccentricity         0\n",
              "Convex_Area          0\n",
              "Extent               0\n",
              "Class                0\n",
              "dtype: int64"
            ]
          },
          "execution_count": 5,
          "metadata": {},
          "output_type": "execute_result"
        }
      ],
      "source": [
        "df.isnull().sum()"
      ]
    },
    {
      "cell_type": "markdown",
      "metadata": {
        "id": "BSx51xDFKrag"
      },
      "source": [
        "## Data description"
      ]
    },
    {
      "cell_type": "code",
      "execution_count": 6,
      "metadata": {
        "colab": {
          "base_uri": "https://localhost:8080/",
          "height": 300
        },
        "id": "w4btXp7NKjj4",
        "outputId": "fd40b771-b0d2-493b-a39b-ced3c6f43fe1"
      },
      "outputs": [
        {
          "data": {
            "text/html": [
              "<div>\n",
              "<style scoped>\n",
              "    .dataframe tbody tr th:only-of-type {\n",
              "        vertical-align: middle;\n",
              "    }\n",
              "\n",
              "    .dataframe tbody tr th {\n",
              "        vertical-align: top;\n",
              "    }\n",
              "\n",
              "    .dataframe thead th {\n",
              "        text-align: right;\n",
              "    }\n",
              "</style>\n",
              "<table border=\"1\" class=\"dataframe\">\n",
              "  <thead>\n",
              "    <tr style=\"text-align: right;\">\n",
              "      <th></th>\n",
              "      <th>Area</th>\n",
              "      <th>Perimeter</th>\n",
              "      <th>Major_Axis_Length</th>\n",
              "      <th>Minor_Axis_Length</th>\n",
              "      <th>Eccentricity</th>\n",
              "      <th>Convex_Area</th>\n",
              "      <th>Extent</th>\n",
              "    </tr>\n",
              "  </thead>\n",
              "  <tbody>\n",
              "    <tr>\n",
              "      <th>count</th>\n",
              "      <td>3810.000000</td>\n",
              "      <td>3810.000000</td>\n",
              "      <td>3810.000000</td>\n",
              "      <td>3810.000000</td>\n",
              "      <td>3810.000000</td>\n",
              "      <td>3810.000000</td>\n",
              "      <td>3810.000000</td>\n",
              "    </tr>\n",
              "    <tr>\n",
              "      <th>mean</th>\n",
              "      <td>12667.727559</td>\n",
              "      <td>454.239180</td>\n",
              "      <td>188.776222</td>\n",
              "      <td>86.313750</td>\n",
              "      <td>0.886871</td>\n",
              "      <td>12952.496850</td>\n",
              "      <td>0.661934</td>\n",
              "    </tr>\n",
              "    <tr>\n",
              "      <th>std</th>\n",
              "      <td>1732.367706</td>\n",
              "      <td>35.597081</td>\n",
              "      <td>17.448679</td>\n",
              "      <td>5.729817</td>\n",
              "      <td>0.020818</td>\n",
              "      <td>1776.972042</td>\n",
              "      <td>0.077239</td>\n",
              "    </tr>\n",
              "    <tr>\n",
              "      <th>min</th>\n",
              "      <td>7551.000000</td>\n",
              "      <td>359.100006</td>\n",
              "      <td>145.264465</td>\n",
              "      <td>59.532406</td>\n",
              "      <td>0.777233</td>\n",
              "      <td>7723.000000</td>\n",
              "      <td>0.497413</td>\n",
              "    </tr>\n",
              "    <tr>\n",
              "      <th>25%</th>\n",
              "      <td>11370.500000</td>\n",
              "      <td>426.144752</td>\n",
              "      <td>174.353855</td>\n",
              "      <td>82.731695</td>\n",
              "      <td>0.872402</td>\n",
              "      <td>11626.250000</td>\n",
              "      <td>0.598862</td>\n",
              "    </tr>\n",
              "    <tr>\n",
              "      <th>50%</th>\n",
              "      <td>12421.500000</td>\n",
              "      <td>448.852493</td>\n",
              "      <td>185.810059</td>\n",
              "      <td>86.434647</td>\n",
              "      <td>0.889050</td>\n",
              "      <td>12706.500000</td>\n",
              "      <td>0.645361</td>\n",
              "    </tr>\n",
              "    <tr>\n",
              "      <th>75%</th>\n",
              "      <td>13950.000000</td>\n",
              "      <td>483.683746</td>\n",
              "      <td>203.550438</td>\n",
              "      <td>90.143677</td>\n",
              "      <td>0.902588</td>\n",
              "      <td>14284.000000</td>\n",
              "      <td>0.726562</td>\n",
              "    </tr>\n",
              "    <tr>\n",
              "      <th>max</th>\n",
              "      <td>18913.000000</td>\n",
              "      <td>548.445984</td>\n",
              "      <td>239.010498</td>\n",
              "      <td>107.542450</td>\n",
              "      <td>0.948007</td>\n",
              "      <td>19099.000000</td>\n",
              "      <td>0.861050</td>\n",
              "    </tr>\n",
              "  </tbody>\n",
              "</table>\n",
              "</div>"
            ],
            "text/plain": [
              "               Area    Perimeter  Major_Axis_Length  Minor_Axis_Length  \\\n",
              "count   3810.000000  3810.000000        3810.000000        3810.000000   \n",
              "mean   12667.727559   454.239180         188.776222          86.313750   \n",
              "std     1732.367706    35.597081          17.448679           5.729817   \n",
              "min     7551.000000   359.100006         145.264465          59.532406   \n",
              "25%    11370.500000   426.144752         174.353855          82.731695   \n",
              "50%    12421.500000   448.852493         185.810059          86.434647   \n",
              "75%    13950.000000   483.683746         203.550438          90.143677   \n",
              "max    18913.000000   548.445984         239.010498         107.542450   \n",
              "\n",
              "       Eccentricity   Convex_Area       Extent  \n",
              "count   3810.000000   3810.000000  3810.000000  \n",
              "mean       0.886871  12952.496850     0.661934  \n",
              "std        0.020818   1776.972042     0.077239  \n",
              "min        0.777233   7723.000000     0.497413  \n",
              "25%        0.872402  11626.250000     0.598862  \n",
              "50%        0.889050  12706.500000     0.645361  \n",
              "75%        0.902588  14284.000000     0.726562  \n",
              "max        0.948007  19099.000000     0.861050  "
            ]
          },
          "execution_count": 6,
          "metadata": {},
          "output_type": "execute_result"
        }
      ],
      "source": [
        "df.describe()"
      ]
    },
    {
      "cell_type": "markdown",
      "metadata": {
        "id": "E3ko4JwTM4Xn"
      },
      "source": [
        "## Separate a column from dataframe"
      ]
    },
    {
      "cell_type": "code",
      "execution_count": 7,
      "metadata": {
        "colab": {
          "base_uri": "https://localhost:8080/",
          "height": 206
        },
        "id": "mEnLS4PEMH2F",
        "outputId": "a6101671-8fea-4955-ac8d-171264befb2f"
      },
      "outputs": [
        {
          "data": {
            "text/html": [
              "<div>\n",
              "<style scoped>\n",
              "    .dataframe tbody tr th:only-of-type {\n",
              "        vertical-align: middle;\n",
              "    }\n",
              "\n",
              "    .dataframe tbody tr th {\n",
              "        vertical-align: top;\n",
              "    }\n",
              "\n",
              "    .dataframe thead th {\n",
              "        text-align: right;\n",
              "    }\n",
              "</style>\n",
              "<table border=\"1\" class=\"dataframe\">\n",
              "  <thead>\n",
              "    <tr style=\"text-align: right;\">\n",
              "      <th></th>\n",
              "      <th>Area</th>\n",
              "      <th>Perimeter</th>\n",
              "      <th>Major_Axis_Length</th>\n",
              "      <th>Minor_Axis_Length</th>\n",
              "      <th>Eccentricity</th>\n",
              "      <th>Convex_Area</th>\n",
              "      <th>Extent</th>\n",
              "    </tr>\n",
              "  </thead>\n",
              "  <tbody>\n",
              "    <tr>\n",
              "      <th>0</th>\n",
              "      <td>15231</td>\n",
              "      <td>525.578979</td>\n",
              "      <td>229.749878</td>\n",
              "      <td>85.093788</td>\n",
              "      <td>0.928882</td>\n",
              "      <td>15617</td>\n",
              "      <td>0.572896</td>\n",
              "    </tr>\n",
              "    <tr>\n",
              "      <th>1</th>\n",
              "      <td>14656</td>\n",
              "      <td>494.311005</td>\n",
              "      <td>206.020065</td>\n",
              "      <td>91.730972</td>\n",
              "      <td>0.895405</td>\n",
              "      <td>15072</td>\n",
              "      <td>0.615436</td>\n",
              "    </tr>\n",
              "    <tr>\n",
              "      <th>2</th>\n",
              "      <td>14634</td>\n",
              "      <td>501.122009</td>\n",
              "      <td>214.106781</td>\n",
              "      <td>87.768288</td>\n",
              "      <td>0.912118</td>\n",
              "      <td>14954</td>\n",
              "      <td>0.693259</td>\n",
              "    </tr>\n",
              "    <tr>\n",
              "      <th>3</th>\n",
              "      <td>13176</td>\n",
              "      <td>458.342987</td>\n",
              "      <td>193.337387</td>\n",
              "      <td>87.448395</td>\n",
              "      <td>0.891861</td>\n",
              "      <td>13368</td>\n",
              "      <td>0.640669</td>\n",
              "    </tr>\n",
              "    <tr>\n",
              "      <th>4</th>\n",
              "      <td>14688</td>\n",
              "      <td>507.166992</td>\n",
              "      <td>211.743378</td>\n",
              "      <td>89.312454</td>\n",
              "      <td>0.906691</td>\n",
              "      <td>15262</td>\n",
              "      <td>0.646024</td>\n",
              "    </tr>\n",
              "  </tbody>\n",
              "</table>\n",
              "</div>"
            ],
            "text/plain": [
              "    Area   Perimeter  Major_Axis_Length  Minor_Axis_Length  Eccentricity  \\\n",
              "0  15231  525.578979         229.749878          85.093788      0.928882   \n",
              "1  14656  494.311005         206.020065          91.730972      0.895405   \n",
              "2  14634  501.122009         214.106781          87.768288      0.912118   \n",
              "3  13176  458.342987         193.337387          87.448395      0.891861   \n",
              "4  14688  507.166992         211.743378          89.312454      0.906691   \n",
              "\n",
              "   Convex_Area    Extent  \n",
              "0        15617  0.572896  \n",
              "1        15072  0.615436  \n",
              "2        14954  0.693259  \n",
              "3        13368  0.640669  \n",
              "4        15262  0.646024  "
            ]
          },
          "execution_count": 7,
          "metadata": {},
          "output_type": "execute_result"
        }
      ],
      "source": [
        "new_df = df.drop(['Class'], axis=1)\n",
        "new_df.head()"
      ]
    },
    {
      "cell_type": "markdown",
      "metadata": {
        "id": "y94qU_NBQN_y"
      },
      "source": [
        "## Standardization"
      ]
    },
    {
      "cell_type": "code",
      "execution_count": 8,
      "metadata": {
        "colab": {
          "base_uri": "https://localhost:8080/",
          "height": 206
        },
        "id": "Zc79SOQ9NYYg",
        "outputId": "275ac578-521e-4912-cd56-78d2eb96a020"
      },
      "outputs": [
        {
          "data": {
            "text/html": [
              "<div>\n",
              "<style scoped>\n",
              "    .dataframe tbody tr th:only-of-type {\n",
              "        vertical-align: middle;\n",
              "    }\n",
              "\n",
              "    .dataframe tbody tr th {\n",
              "        vertical-align: top;\n",
              "    }\n",
              "\n",
              "    .dataframe thead th {\n",
              "        text-align: right;\n",
              "    }\n",
              "</style>\n",
              "<table border=\"1\" class=\"dataframe\">\n",
              "  <thead>\n",
              "    <tr style=\"text-align: right;\">\n",
              "      <th></th>\n",
              "      <th>Area</th>\n",
              "      <th>Perimeter</th>\n",
              "      <th>Major_Axis_Length</th>\n",
              "      <th>Minor_Axis_Length</th>\n",
              "      <th>Eccentricity</th>\n",
              "      <th>Convex_Area</th>\n",
              "      <th>Extent</th>\n",
              "    </tr>\n",
              "  </thead>\n",
              "  <tbody>\n",
              "    <tr>\n",
              "      <th>0</th>\n",
              "      <td>1.479635</td>\n",
              "      <td>2.004091</td>\n",
              "      <td>2.348238</td>\n",
              "      <td>-0.212915</td>\n",
              "      <td>2.018073</td>\n",
              "      <td>1.499463</td>\n",
              "      <td>-1.152770</td>\n",
              "    </tr>\n",
              "    <tr>\n",
              "      <th>1</th>\n",
              "      <td>1.147720</td>\n",
              "      <td>1.125705</td>\n",
              "      <td>0.988261</td>\n",
              "      <td>0.945444</td>\n",
              "      <td>0.409964</td>\n",
              "      <td>1.192761</td>\n",
              "      <td>-0.602000</td>\n",
              "    </tr>\n",
              "    <tr>\n",
              "      <th>2</th>\n",
              "      <td>1.135020</td>\n",
              "      <td>1.317041</td>\n",
              "      <td>1.451718</td>\n",
              "      <td>0.253854</td>\n",
              "      <td>1.212797</td>\n",
              "      <td>1.126356</td>\n",
              "      <td>0.405558</td>\n",
              "    </tr>\n",
              "    <tr>\n",
              "      <th>3</th>\n",
              "      <td>0.293398</td>\n",
              "      <td>0.115285</td>\n",
              "      <td>0.261405</td>\n",
              "      <td>0.198025</td>\n",
              "      <td>0.239720</td>\n",
              "      <td>0.233826</td>\n",
              "      <td>-0.275315</td>\n",
              "    </tr>\n",
              "    <tr>\n",
              "      <th>4</th>\n",
              "      <td>1.166191</td>\n",
              "      <td>1.486858</td>\n",
              "      <td>1.316269</td>\n",
              "      <td>0.523351</td>\n",
              "      <td>0.952096</td>\n",
              "      <td>1.299685</td>\n",
              "      <td>-0.205986</td>\n",
              "    </tr>\n",
              "  </tbody>\n",
              "</table>\n",
              "</div>"
            ],
            "text/plain": [
              "       Area  Perimeter  Major_Axis_Length  Minor_Axis_Length  Eccentricity  \\\n",
              "0  1.479635   2.004091           2.348238          -0.212915      2.018073   \n",
              "1  1.147720   1.125705           0.988261           0.945444      0.409964   \n",
              "2  1.135020   1.317041           1.451718           0.253854      1.212797   \n",
              "3  0.293398   0.115285           0.261405           0.198025      0.239720   \n",
              "4  1.166191   1.486858           1.316269           0.523351      0.952096   \n",
              "\n",
              "   Convex_Area    Extent  \n",
              "0     1.499463 -1.152770  \n",
              "1     1.192761 -0.602000  \n",
              "2     1.126356  0.405558  \n",
              "3     0.233826 -0.275315  \n",
              "4     1.299685 -0.205986  "
            ]
          },
          "execution_count": 8,
          "metadata": {},
          "output_type": "execute_result"
        }
      ],
      "source": [
        "def scale_feature(df, feature):\n",
        "    mean = df[feature].mean()\n",
        "    std = df[feature].std()\n",
        "    return (df[feature] - mean) / std\n",
        "\n",
        "def scale_dataframe(df):\n",
        "    df_scaled = pd.DataFrame()\n",
        "    for feature in ['Area', 'Perimeter', 'Major_Axis_Length', 'Minor_Axis_Length', 'Eccentricity', 'Convex_Area', 'Extent']:\n",
        "        df_scaled[feature] = scale_feature(df, feature)\n",
        "    return df_scaled\n",
        "\n",
        "df_scaled = scale_dataframe(new_df)\n",
        "df_scaled.head()"
      ]
    },
    {
      "cell_type": "code",
      "execution_count": 9,
      "metadata": {
        "colab": {
          "base_uri": "https://localhost:8080/"
        },
        "id": "e0o3nCmRPbT7",
        "outputId": "90e08a34-5b2e-4a69-8b64-643503a75fc9"
      },
      "outputs": [
        {
          "data": {
            "text/plain": [
              "Area                 0.0\n",
              "Perimeter            0.0\n",
              "Major_Axis_Length    0.0\n",
              "Minor_Axis_Length   -0.0\n",
              "Eccentricity        -0.0\n",
              "Convex_Area         -0.0\n",
              "Extent              -0.0\n",
              "dtype: float64"
            ]
          },
          "execution_count": 9,
          "metadata": {},
          "output_type": "execute_result"
        }
      ],
      "source": [
        "df_scaled.mean().round(2)"
      ]
    },
    {
      "cell_type": "code",
      "execution_count": 10,
      "metadata": {
        "colab": {
          "base_uri": "https://localhost:8080/"
        },
        "id": "nY5EHFskPxH0",
        "outputId": "42dffe59-b072-4f95-bc0b-11147556f57b"
      },
      "outputs": [
        {
          "data": {
            "text/plain": [
              "Area                 1.0\n",
              "Perimeter            1.0\n",
              "Major_Axis_Length    1.0\n",
              "Minor_Axis_Length    1.0\n",
              "Eccentricity         1.0\n",
              "Convex_Area          1.0\n",
              "Extent               1.0\n",
              "dtype: float64"
            ]
          },
          "execution_count": 10,
          "metadata": {},
          "output_type": "execute_result"
        }
      ],
      "source": [
        "df_scaled.std()"
      ]
    },
    {
      "cell_type": "markdown",
      "metadata": {
        "id": "NtWrzzv5vXNp"
      },
      "source": [
        "## KNN (Nearest Neighbors Algorithm)\n",
        "\n",
        "Calculate the Euclidean distance of the new data and guess what is the label of the new data based on 17 nearest neighbors?"
      ]
    },
    {
      "cell_type": "code",
      "execution_count": 11,
      "metadata": {
        "id": "yZhny4BCudPe"
      },
      "outputs": [],
      "source": [
        "new_data = {'Area':[13693],'Perimeter':[479.479004],\n",
        "     'Major_Axis_Length':[200.397293],'Minor_Axis_Length':[88.174461]\n",
        "     ,'Eccentricity':[0.897999],'Convex_Area':[14097],'Extent':[0.695253]}\n",
        "\n",
        "test_data = pd.DataFrame(new_data)"
      ]
    },
    {
      "cell_type": "markdown",
      "metadata": {
        "id": "EAF3LpeCxHif"
      },
      "source": [
        "### New data standardization"
      ]
    },
    {
      "cell_type": "code",
      "execution_count": 12,
      "metadata": {
        "colab": {
          "base_uri": "https://localhost:8080/",
          "height": 81
        },
        "id": "vL-abCYEw6O4",
        "outputId": "89a7b714-88fb-4661-fbdc-23775b5cb6f8"
      },
      "outputs": [
        {
          "data": {
            "text/html": [
              "<div>\n",
              "<style scoped>\n",
              "    .dataframe tbody tr th:only-of-type {\n",
              "        vertical-align: middle;\n",
              "    }\n",
              "\n",
              "    .dataframe tbody tr th {\n",
              "        vertical-align: top;\n",
              "    }\n",
              "\n",
              "    .dataframe thead th {\n",
              "        text-align: right;\n",
              "    }\n",
              "</style>\n",
              "<table border=\"1\" class=\"dataframe\">\n",
              "  <thead>\n",
              "    <tr style=\"text-align: right;\">\n",
              "      <th></th>\n",
              "      <th>Area</th>\n",
              "      <th>Perimeter</th>\n",
              "      <th>Major_Axis_Length</th>\n",
              "      <th>Minor_Axis_Length</th>\n",
              "      <th>Eccentricity</th>\n",
              "      <th>Convex_Area</th>\n",
              "      <th>Extent</th>\n",
              "    </tr>\n",
              "  </thead>\n",
              "  <tbody>\n",
              "    <tr>\n",
              "      <th>0</th>\n",
              "      <td>0.591833</td>\n",
              "      <td>0.709042</td>\n",
              "      <td>0.666014</td>\n",
              "      <td>0.324742</td>\n",
              "      <td>0.534571</td>\n",
              "      <td>0.644075</td>\n",
              "      <td>0.431376</td>\n",
              "    </tr>\n",
              "  </tbody>\n",
              "</table>\n",
              "</div>"
            ],
            "text/plain": [
              "       Area  Perimeter  Major_Axis_Length  Minor_Axis_Length  Eccentricity  \\\n",
              "0  0.591833   0.709042           0.666014           0.324742      0.534571   \n",
              "\n",
              "   Convex_Area    Extent  \n",
              "0     0.644075  0.431376  "
            ]
          },
          "execution_count": 12,
          "metadata": {},
          "output_type": "execute_result"
        }
      ],
      "source": [
        "def scale_new_data(df1, df2, feature):\n",
        "    mean = df2[feature].mean()\n",
        "    std = df2[feature].std()\n",
        "    return (df1[feature] - mean) / std\n",
        "\n",
        "def scale_data(df1, df2):\n",
        "    df_scaled = pd.DataFrame()\n",
        "    for feature in ['Area', 'Perimeter', 'Major_Axis_Length', 'Minor_Axis_Length', 'Eccentricity', 'Convex_Area', 'Extent']:\n",
        "        df_scaled[feature] = scale_new_data(df1, df2, feature)\n",
        "    return df_scaled\n",
        "\n",
        "data_scaled = scale_data(test_data, new_df)\n",
        "data_scaled.head()"
      ]
    },
    {
      "cell_type": "markdown",
      "metadata": {
        "id": "w57vv02-1_yH"
      },
      "source": [
        "### Convert new data to numeric array"
      ]
    },
    {
      "cell_type": "code",
      "execution_count": 13,
      "metadata": {
        "colab": {
          "base_uri": "https://localhost:8080/"
        },
        "id": "f10L0OwAxr-B",
        "outputId": "1ef6df48-44c3-44a5-aa5b-dc6cb480b3bf"
      },
      "outputs": [
        {
          "data": {
            "text/plain": [
              "array([[0.59183304, 0.70904194, 0.66601439, 0.3247417 , 0.53457051,\n",
              "        0.64407493, 0.43137612]])"
            ]
          },
          "execution_count": 13,
          "metadata": {},
          "output_type": "execute_result"
        }
      ],
      "source": [
        "np_test_scaled = data_scaled.to_numpy()\n",
        "np_test_scaled"
      ]
    },
    {
      "cell_type": "markdown",
      "metadata": {
        "id": "K3CkvlPX2VyF"
      },
      "source": [
        "### Convert dataframe to numeric array"
      ]
    },
    {
      "cell_type": "code",
      "execution_count": 14,
      "metadata": {
        "colab": {
          "base_uri": "https://localhost:8080/"
        },
        "id": "_FT0nZhd2PFO",
        "outputId": "430b3e27-b4c6-456a-b742-7acf23a20a09"
      },
      "outputs": [
        {
          "data": {
            "text/plain": [
              "array([[ 1.47963532,  2.00409125,  2.34823834, ...,  2.01807257,\n",
              "         1.49946262, -1.15276961],\n",
              "       [ 1.14771964,  1.12570533,  0.98826071, ...,  0.40996432,\n",
              "         1.19276111, -0.60199975],\n",
              "       [ 1.13502026,  1.31704138,  1.45171791, ...,  1.21279729,\n",
              "         1.12635602,  0.40555776],\n",
              "       ...,\n",
              "       [-0.13318625, -0.32980758, -0.29820597, ..., -0.27506304,\n",
              "        -0.17304541, -0.45567127],\n",
              "       [-1.60804635, -1.74009162, -1.58076367, ..., -0.59874276,\n",
              "        -1.60694529, -0.03716269],\n",
              "       [-0.71216264, -1.39138341, -1.58733812, ..., -2.93877438,\n",
              "        -0.76618924,  1.82570729]])"
            ]
          },
          "execution_count": 14,
          "metadata": {},
          "output_type": "execute_result"
        }
      ],
      "source": [
        "np_df_scaled = df_scaled.to_numpy()\n",
        "np_df_scaled"
      ]
    },
    {
      "cell_type": "markdown",
      "metadata": {
        "id": "OgihJqHv2ynb"
      },
      "source": [
        "### Calculate Euclidean Distance"
      ]
    },
    {
      "cell_type": "code",
      "execution_count": 15,
      "metadata": {
        "colab": {
          "base_uri": "https://localhost:8080/"
        },
        "id": "TPLyqbnb2rSU",
        "outputId": "183d36d7-c858-456d-939e-888d70207a99"
      },
      "outputs": [
        {
          "name": "stdout",
          "output_type": "stream",
          "text": [
            "<class 'numpy.ndarray'>\n"
          ]
        }
      ],
      "source": [
        "euclidean_dist = np.zeros(shape=(len(np_df_scaled)))\n",
        "\n",
        "print(type(euclidean_dist))"
      ]
    },
    {
      "cell_type": "code",
      "execution_count": 16,
      "metadata": {
        "colab": {
          "base_uri": "https://localhost:8080/"
        },
        "id": "tLydBkm63PDz",
        "outputId": "0c1ef4d9-96fe-4013-e0ac-bac8f4a0825e"
      },
      "outputs": [
        {
          "name": "stdout",
          "output_type": "stream",
          "text": [
            "[2.46331511 1.59797953 1.56515495 ... 1.85800583 5.73911932 3.37582205]\n"
          ]
        }
      ],
      "source": [
        "for i in range(len(np_df_scaled)):\n",
        "    euclidean_dist[i] = np.sqrt(np.sum([(a-b)*(a-b) for a, b in zip(np_test_scaled, np_df_scaled[i])]))\n",
        "\n",
        "print(euclidean_dist)"
      ]
    },
    {
      "cell_type": "markdown",
      "metadata": {
        "id": "LYUyFmH9394V"
      },
      "source": [
        "### Add Euclidean distance to dataframe"
      ]
    },
    {
      "cell_type": "code",
      "execution_count": 17,
      "metadata": {
        "colab": {
          "base_uri": "https://localhost:8080/",
          "height": 206
        },
        "id": "IHVFZ9HC3iqT",
        "outputId": "e650515d-000a-435d-a396-b0c1c076c26b"
      },
      "outputs": [
        {
          "data": {
            "text/html": [
              "<div>\n",
              "<style scoped>\n",
              "    .dataframe tbody tr th:only-of-type {\n",
              "        vertical-align: middle;\n",
              "    }\n",
              "\n",
              "    .dataframe tbody tr th {\n",
              "        vertical-align: top;\n",
              "    }\n",
              "\n",
              "    .dataframe thead th {\n",
              "        text-align: right;\n",
              "    }\n",
              "</style>\n",
              "<table border=\"1\" class=\"dataframe\">\n",
              "  <thead>\n",
              "    <tr style=\"text-align: right;\">\n",
              "      <th></th>\n",
              "      <th>Area</th>\n",
              "      <th>Perimeter</th>\n",
              "      <th>Major_Axis_Length</th>\n",
              "      <th>Minor_Axis_Length</th>\n",
              "      <th>Eccentricity</th>\n",
              "      <th>Convex_Area</th>\n",
              "      <th>Extent</th>\n",
              "      <th>euclidean_dist</th>\n",
              "    </tr>\n",
              "  </thead>\n",
              "  <tbody>\n",
              "    <tr>\n",
              "      <th>0</th>\n",
              "      <td>1.479635</td>\n",
              "      <td>2.004091</td>\n",
              "      <td>2.348238</td>\n",
              "      <td>-0.212915</td>\n",
              "      <td>2.018073</td>\n",
              "      <td>1.499463</td>\n",
              "      <td>-1.152770</td>\n",
              "      <td>2.463315</td>\n",
              "    </tr>\n",
              "    <tr>\n",
              "      <th>1</th>\n",
              "      <td>1.147720</td>\n",
              "      <td>1.125705</td>\n",
              "      <td>0.988261</td>\n",
              "      <td>0.945444</td>\n",
              "      <td>0.409964</td>\n",
              "      <td>1.192761</td>\n",
              "      <td>-0.602000</td>\n",
              "      <td>1.597980</td>\n",
              "    </tr>\n",
              "    <tr>\n",
              "      <th>2</th>\n",
              "      <td>1.135020</td>\n",
              "      <td>1.317041</td>\n",
              "      <td>1.451718</td>\n",
              "      <td>0.253854</td>\n",
              "      <td>1.212797</td>\n",
              "      <td>1.126356</td>\n",
              "      <td>0.405558</td>\n",
              "      <td>1.565155</td>\n",
              "    </tr>\n",
              "    <tr>\n",
              "      <th>3</th>\n",
              "      <td>0.293398</td>\n",
              "      <td>0.115285</td>\n",
              "      <td>0.261405</td>\n",
              "      <td>0.198025</td>\n",
              "      <td>0.239720</td>\n",
              "      <td>0.233826</td>\n",
              "      <td>-0.275315</td>\n",
              "      <td>0.775775</td>\n",
              "    </tr>\n",
              "    <tr>\n",
              "      <th>4</th>\n",
              "      <td>1.166191</td>\n",
              "      <td>1.486858</td>\n",
              "      <td>1.316269</td>\n",
              "      <td>0.523351</td>\n",
              "      <td>0.952096</td>\n",
              "      <td>1.299685</td>\n",
              "      <td>-0.205986</td>\n",
              "      <td>1.645780</td>\n",
              "    </tr>\n",
              "  </tbody>\n",
              "</table>\n",
              "</div>"
            ],
            "text/plain": [
              "       Area  Perimeter  Major_Axis_Length  Minor_Axis_Length  Eccentricity  \\\n",
              "0  1.479635   2.004091           2.348238          -0.212915      2.018073   \n",
              "1  1.147720   1.125705           0.988261           0.945444      0.409964   \n",
              "2  1.135020   1.317041           1.451718           0.253854      1.212797   \n",
              "3  0.293398   0.115285           0.261405           0.198025      0.239720   \n",
              "4  1.166191   1.486858           1.316269           0.523351      0.952096   \n",
              "\n",
              "   Convex_Area    Extent  euclidean_dist  \n",
              "0     1.499463 -1.152770        2.463315  \n",
              "1     1.192761 -0.602000        1.597980  \n",
              "2     1.126356  0.405558        1.565155  \n",
              "3     0.233826 -0.275315        0.775775  \n",
              "4     1.299685 -0.205986        1.645780  "
            ]
          },
          "execution_count": 17,
          "metadata": {},
          "output_type": "execute_result"
        }
      ],
      "source": [
        "df_scaled['euclidean_dist'] = euclidean_dist\n",
        "df_scaled.head()"
      ]
    },
    {
      "cell_type": "markdown",
      "metadata": {
        "id": "sb0y7GVo4sYl"
      },
      "source": [
        "### Returning the labels that we set aside for standardization"
      ]
    },
    {
      "cell_type": "code",
      "execution_count": 18,
      "metadata": {
        "colab": {
          "base_uri": "https://localhost:8080/",
          "height": 206
        },
        "id": "m_kGXuv94PxJ",
        "outputId": "c6e0f24c-198e-4a3c-b128-d6a2675ba424"
      },
      "outputs": [
        {
          "data": {
            "text/html": [
              "<div>\n",
              "<style scoped>\n",
              "    .dataframe tbody tr th:only-of-type {\n",
              "        vertical-align: middle;\n",
              "    }\n",
              "\n",
              "    .dataframe tbody tr th {\n",
              "        vertical-align: top;\n",
              "    }\n",
              "\n",
              "    .dataframe thead th {\n",
              "        text-align: right;\n",
              "    }\n",
              "</style>\n",
              "<table border=\"1\" class=\"dataframe\">\n",
              "  <thead>\n",
              "    <tr style=\"text-align: right;\">\n",
              "      <th></th>\n",
              "      <th>Area</th>\n",
              "      <th>Perimeter</th>\n",
              "      <th>Major_Axis_Length</th>\n",
              "      <th>Minor_Axis_Length</th>\n",
              "      <th>Eccentricity</th>\n",
              "      <th>Convex_Area</th>\n",
              "      <th>Extent</th>\n",
              "      <th>euclidean_dist</th>\n",
              "      <th>Calss</th>\n",
              "    </tr>\n",
              "  </thead>\n",
              "  <tbody>\n",
              "    <tr>\n",
              "      <th>0</th>\n",
              "      <td>1.479635</td>\n",
              "      <td>2.004091</td>\n",
              "      <td>2.348238</td>\n",
              "      <td>-0.212915</td>\n",
              "      <td>2.018073</td>\n",
              "      <td>1.499463</td>\n",
              "      <td>-1.152770</td>\n",
              "      <td>2.463315</td>\n",
              "      <td>Cammeo</td>\n",
              "    </tr>\n",
              "    <tr>\n",
              "      <th>1</th>\n",
              "      <td>1.147720</td>\n",
              "      <td>1.125705</td>\n",
              "      <td>0.988261</td>\n",
              "      <td>0.945444</td>\n",
              "      <td>0.409964</td>\n",
              "      <td>1.192761</td>\n",
              "      <td>-0.602000</td>\n",
              "      <td>1.597980</td>\n",
              "      <td>Cammeo</td>\n",
              "    </tr>\n",
              "    <tr>\n",
              "      <th>2</th>\n",
              "      <td>1.135020</td>\n",
              "      <td>1.317041</td>\n",
              "      <td>1.451718</td>\n",
              "      <td>0.253854</td>\n",
              "      <td>1.212797</td>\n",
              "      <td>1.126356</td>\n",
              "      <td>0.405558</td>\n",
              "      <td>1.565155</td>\n",
              "      <td>Cammeo</td>\n",
              "    </tr>\n",
              "    <tr>\n",
              "      <th>3</th>\n",
              "      <td>0.293398</td>\n",
              "      <td>0.115285</td>\n",
              "      <td>0.261405</td>\n",
              "      <td>0.198025</td>\n",
              "      <td>0.239720</td>\n",
              "      <td>0.233826</td>\n",
              "      <td>-0.275315</td>\n",
              "      <td>0.775775</td>\n",
              "      <td>Cammeo</td>\n",
              "    </tr>\n",
              "    <tr>\n",
              "      <th>4</th>\n",
              "      <td>1.166191</td>\n",
              "      <td>1.486858</td>\n",
              "      <td>1.316269</td>\n",
              "      <td>0.523351</td>\n",
              "      <td>0.952096</td>\n",
              "      <td>1.299685</td>\n",
              "      <td>-0.205986</td>\n",
              "      <td>1.645780</td>\n",
              "      <td>Cammeo</td>\n",
              "    </tr>\n",
              "  </tbody>\n",
              "</table>\n",
              "</div>"
            ],
            "text/plain": [
              "       Area  Perimeter  Major_Axis_Length  Minor_Axis_Length  Eccentricity  \\\n",
              "0  1.479635   2.004091           2.348238          -0.212915      2.018073   \n",
              "1  1.147720   1.125705           0.988261           0.945444      0.409964   \n",
              "2  1.135020   1.317041           1.451718           0.253854      1.212797   \n",
              "3  0.293398   0.115285           0.261405           0.198025      0.239720   \n",
              "4  1.166191   1.486858           1.316269           0.523351      0.952096   \n",
              "\n",
              "   Convex_Area    Extent  euclidean_dist   Calss  \n",
              "0     1.499463 -1.152770        2.463315  Cammeo  \n",
              "1     1.192761 -0.602000        1.597980  Cammeo  \n",
              "2     1.126356  0.405558        1.565155  Cammeo  \n",
              "3     0.233826 -0.275315        0.775775  Cammeo  \n",
              "4     1.299685 -0.205986        1.645780  Cammeo  "
            ]
          },
          "execution_count": 18,
          "metadata": {},
          "output_type": "execute_result"
        }
      ],
      "source": [
        "df_scaled['Calss'] = df['Class']\n",
        "df_scaled.head()"
      ]
    },
    {
      "cell_type": "markdown",
      "metadata": {
        "id": "Cj1SCDGg4-rd"
      },
      "source": [
        "### Sort the data by Euclidean distance"
      ]
    },
    {
      "cell_type": "code",
      "execution_count": 19,
      "metadata": {
        "colab": {
          "base_uri": "https://localhost:8080/",
          "height": 582
        },
        "id": "Jxq54F3c4zmY",
        "outputId": "88160b10-bd69-4bdb-dac9-4c7035d95d9d"
      },
      "outputs": [
        {
          "data": {
            "text/html": [
              "<div>\n",
              "<style scoped>\n",
              "    .dataframe tbody tr th:only-of-type {\n",
              "        vertical-align: middle;\n",
              "    }\n",
              "\n",
              "    .dataframe tbody tr th {\n",
              "        vertical-align: top;\n",
              "    }\n",
              "\n",
              "    .dataframe thead th {\n",
              "        text-align: right;\n",
              "    }\n",
              "</style>\n",
              "<table border=\"1\" class=\"dataframe\">\n",
              "  <thead>\n",
              "    <tr style=\"text-align: right;\">\n",
              "      <th></th>\n",
              "      <th>Area</th>\n",
              "      <th>Perimeter</th>\n",
              "      <th>Major_Axis_Length</th>\n",
              "      <th>Minor_Axis_Length</th>\n",
              "      <th>Eccentricity</th>\n",
              "      <th>Convex_Area</th>\n",
              "      <th>Extent</th>\n",
              "      <th>euclidean_dist</th>\n",
              "      <th>Calss</th>\n",
              "    </tr>\n",
              "  </thead>\n",
              "  <tbody>\n",
              "    <tr>\n",
              "      <th>1525</th>\n",
              "      <td>0.557776</td>\n",
              "      <td>1.037748</td>\n",
              "      <td>1.166696</td>\n",
              "      <td>-0.450279</td>\n",
              "      <td>1.415960</td>\n",
              "      <td>0.631694</td>\n",
              "      <td>1.630997</td>\n",
              "      <td>0.337675</td>\n",
              "      <td>Cammeo</td>\n",
              "    </tr>\n",
              "    <tr>\n",
              "      <th>834</th>\n",
              "      <td>0.556621</td>\n",
              "      <td>0.890462</td>\n",
              "      <td>0.942119</td>\n",
              "      <td>-0.084191</td>\n",
              "      <td>1.030905</td>\n",
              "      <td>0.536026</td>\n",
              "      <td>-1.447627</td>\n",
              "      <td>0.337680</td>\n",
              "      <td>Cammeo</td>\n",
              "    </tr>\n",
              "    <tr>\n",
              "      <th>3403</th>\n",
              "      <td>0.558353</td>\n",
              "      <td>0.036711</td>\n",
              "      <td>0.037559</td>\n",
              "      <td>1.005946</td>\n",
              "      <td>-0.622186</td>\n",
              "      <td>0.468495</td>\n",
              "      <td>1.120988</td>\n",
              "      <td>0.337684</td>\n",
              "      <td>Osmancik</td>\n",
              "    </tr>\n",
              "    <tr>\n",
              "      <th>1355</th>\n",
              "      <td>0.556044</td>\n",
              "      <td>0.542399</td>\n",
              "      <td>0.270381</td>\n",
              "      <td>0.906715</td>\n",
              "      <td>-0.277185</td>\n",
              "      <td>0.668836</td>\n",
              "      <td>-1.057041</td>\n",
              "      <td>0.337692</td>\n",
              "      <td>Cammeo</td>\n",
              "    </tr>\n",
              "    <tr>\n",
              "      <th>1528</th>\n",
              "      <td>0.558930</td>\n",
              "      <td>0.781351</td>\n",
              "      <td>0.781060</td>\n",
              "      <td>0.099488</td>\n",
              "      <td>0.783541</td>\n",
              "      <td>0.579358</td>\n",
              "      <td>-1.008900</td>\n",
              "      <td>0.337699</td>\n",
              "      <td>Cammeo</td>\n",
              "    </tr>\n",
              "    <tr>\n",
              "      <th>1545</th>\n",
              "      <td>0.558930</td>\n",
              "      <td>0.758962</td>\n",
              "      <td>0.868395</td>\n",
              "      <td>-0.023319</td>\n",
              "      <td>0.934113</td>\n",
              "      <td>0.526459</td>\n",
              "      <td>-1.453005</td>\n",
              "      <td>0.337699</td>\n",
              "      <td>Cammeo</td>\n",
              "    </tr>\n",
              "    <tr>\n",
              "      <th>1381</th>\n",
              "      <td>0.559507</td>\n",
              "      <td>0.348732</td>\n",
              "      <td>0.272685</td>\n",
              "      <td>0.705168</td>\n",
              "      <td>-0.122089</td>\n",
              "      <td>0.498321</td>\n",
              "      <td>0.385010</td>\n",
              "      <td>0.337721</td>\n",
              "      <td>Cammeo</td>\n",
              "    </tr>\n",
              "    <tr>\n",
              "      <th>1570</th>\n",
              "      <td>0.559507</td>\n",
              "      <td>0.794217</td>\n",
              "      <td>0.941201</td>\n",
              "      <td>-0.155245</td>\n",
              "      <td>1.073947</td>\n",
              "      <td>0.562475</td>\n",
              "      <td>-1.363587</td>\n",
              "      <td>0.337721</td>\n",
              "      <td>Cammeo</td>\n",
              "    </tr>\n",
              "    <tr>\n",
              "      <th>3427</th>\n",
              "      <td>0.554889</td>\n",
              "      <td>0.461803</td>\n",
              "      <td>0.771878</td>\n",
              "      <td>0.015076</td>\n",
              "      <td>0.830239</td>\n",
              "      <td>0.468495</td>\n",
              "      <td>-1.232140</td>\n",
              "      <td>0.337738</td>\n",
              "      <td>Osmancik</td>\n",
              "    </tr>\n",
              "    <tr>\n",
              "      <th>1121</th>\n",
              "      <td>0.560662</td>\n",
              "      <td>0.791521</td>\n",
              "      <td>0.685439</td>\n",
              "      <td>0.247713</td>\n",
              "      <td>0.603501</td>\n",
              "      <td>0.613123</td>\n",
              "      <td>0.885067</td>\n",
              "      <td>0.337786</td>\n",
              "      <td>Cammeo</td>\n",
              "    </tr>\n",
              "    <tr>\n",
              "      <th>1170</th>\n",
              "      <td>0.553735</td>\n",
              "      <td>0.639093</td>\n",
              "      <td>0.711704</td>\n",
              "      <td>0.111435</td>\n",
              "      <td>0.716548</td>\n",
              "      <td>0.547844</td>\n",
              "      <td>1.535822</td>\n",
              "      <td>0.337811</td>\n",
              "      <td>Cammeo</td>\n",
              "    </tr>\n",
              "    <tr>\n",
              "      <th>3784</th>\n",
              "      <td>0.553158</td>\n",
              "      <td>0.424299</td>\n",
              "      <td>0.149238</td>\n",
              "      <td>1.022750</td>\n",
              "      <td>-0.504106</td>\n",
              "      <td>0.550658</td>\n",
              "      <td>-0.708385</td>\n",
              "      <td>0.337858</td>\n",
              "      <td>Osmancik</td>\n",
              "    </tr>\n",
              "    <tr>\n",
              "      <th>984</th>\n",
              "      <td>0.551426</td>\n",
              "      <td>1.104833</td>\n",
              "      <td>1.315530</td>\n",
              "      <td>-0.591610</td>\n",
              "      <td>1.596933</td>\n",
              "      <td>0.626067</td>\n",
              "      <td>-1.752750</td>\n",
              "      <td>0.338041</td>\n",
              "      <td>Cammeo</td>\n",
              "    </tr>\n",
              "    <tr>\n",
              "      <th>1257</th>\n",
              "      <td>0.563548</td>\n",
              "      <td>0.532033</td>\n",
              "      <td>0.659895</td>\n",
              "      <td>0.267011</td>\n",
              "      <td>0.567837</td>\n",
              "      <td>0.510139</td>\n",
              "      <td>0.192283</td>\n",
              "      <td>0.338068</td>\n",
              "      <td>Cammeo</td>\n",
              "    </tr>\n",
              "    <tr>\n",
              "      <th>2139</th>\n",
              "      <td>0.564125</td>\n",
              "      <td>0.010557</td>\n",
              "      <td>-0.353699</td>\n",
              "      <td>1.639580</td>\n",
              "      <td>-1.692369</td>\n",
              "      <td>0.487629</td>\n",
              "      <td>-0.445432</td>\n",
              "      <td>0.338145</td>\n",
              "      <td>Osmancik</td>\n",
              "    </tr>\n",
              "    <tr>\n",
              "      <th>107</th>\n",
              "      <td>0.564125</td>\n",
              "      <td>0.845177</td>\n",
              "      <td>0.960689</td>\n",
              "      <td>-0.068383</td>\n",
              "      <td>1.035741</td>\n",
              "      <td>0.573731</td>\n",
              "      <td>-1.486288</td>\n",
              "      <td>0.338145</td>\n",
              "      <td>Cammeo</td>\n",
              "    </tr>\n",
              "    <tr>\n",
              "      <th>1282</th>\n",
              "      <td>0.550271</td>\n",
              "      <td>0.654655</td>\n",
              "      <td>0.698133</td>\n",
              "      <td>0.170120</td>\n",
              "      <td>0.666147</td>\n",
              "      <td>0.564726</td>\n",
              "      <td>1.734414</td>\n",
              "      <td>0.338197</td>\n",
              "      <td>Cammeo</td>\n",
              "    </tr>\n",
              "  </tbody>\n",
              "</table>\n",
              "</div>"
            ],
            "text/plain": [
              "          Area  Perimeter  Major_Axis_Length  Minor_Axis_Length  Eccentricity  \\\n",
              "1525  0.557776   1.037748           1.166696          -0.450279      1.415960   \n",
              "834   0.556621   0.890462           0.942119          -0.084191      1.030905   \n",
              "3403  0.558353   0.036711           0.037559           1.005946     -0.622186   \n",
              "1355  0.556044   0.542399           0.270381           0.906715     -0.277185   \n",
              "1528  0.558930   0.781351           0.781060           0.099488      0.783541   \n",
              "1545  0.558930   0.758962           0.868395          -0.023319      0.934113   \n",
              "1381  0.559507   0.348732           0.272685           0.705168     -0.122089   \n",
              "1570  0.559507   0.794217           0.941201          -0.155245      1.073947   \n",
              "3427  0.554889   0.461803           0.771878           0.015076      0.830239   \n",
              "1121  0.560662   0.791521           0.685439           0.247713      0.603501   \n",
              "1170  0.553735   0.639093           0.711704           0.111435      0.716548   \n",
              "3784  0.553158   0.424299           0.149238           1.022750     -0.504106   \n",
              "984   0.551426   1.104833           1.315530          -0.591610      1.596933   \n",
              "1257  0.563548   0.532033           0.659895           0.267011      0.567837   \n",
              "2139  0.564125   0.010557          -0.353699           1.639580     -1.692369   \n",
              "107   0.564125   0.845177           0.960689          -0.068383      1.035741   \n",
              "1282  0.550271   0.654655           0.698133           0.170120      0.666147   \n",
              "\n",
              "      Convex_Area    Extent  euclidean_dist     Calss  \n",
              "1525     0.631694  1.630997        0.337675    Cammeo  \n",
              "834      0.536026 -1.447627        0.337680    Cammeo  \n",
              "3403     0.468495  1.120988        0.337684  Osmancik  \n",
              "1355     0.668836 -1.057041        0.337692    Cammeo  \n",
              "1528     0.579358 -1.008900        0.337699    Cammeo  \n",
              "1545     0.526459 -1.453005        0.337699    Cammeo  \n",
              "1381     0.498321  0.385010        0.337721    Cammeo  \n",
              "1570     0.562475 -1.363587        0.337721    Cammeo  \n",
              "3427     0.468495 -1.232140        0.337738  Osmancik  \n",
              "1121     0.613123  0.885067        0.337786    Cammeo  \n",
              "1170     0.547844  1.535822        0.337811    Cammeo  \n",
              "3784     0.550658 -0.708385        0.337858  Osmancik  \n",
              "984      0.626067 -1.752750        0.338041    Cammeo  \n",
              "1257     0.510139  0.192283        0.338068    Cammeo  \n",
              "2139     0.487629 -0.445432        0.338145  Osmancik  \n",
              "107      0.573731 -1.486288        0.338145    Cammeo  \n",
              "1282     0.564726  1.734414        0.338197    Cammeo  "
            ]
          },
          "execution_count": 19,
          "metadata": {},
          "output_type": "execute_result"
        }
      ],
      "source": [
        "sorted_df = df_scaled.sort_values(by=['euclidean_dist'])\n",
        "sorted_df[0:17] # Because K was 17, we will check the first 17 rows."
      ]
    },
    {
      "cell_type": "markdown",
      "metadata": {
        "id": "9_mLhriI59Hl"
      },
      "source": [
        "### Conclusion\n",
        "\n",
        "According to the class of the nearest neighbors, the new data will be **Cammeo**."
      ]
    }
  ],
  "metadata": {
    "colab": {
      "provenance": []
    },
    "kernelspec": {
      "display_name": "Python 3",
      "name": "python3"
    },
    "language_info": {
      "codemirror_mode": {
        "name": "ipython",
        "version": 3
      },
      "file_extension": ".py",
      "mimetype": "text/x-python",
      "name": "python",
      "nbconvert_exporter": "python",
      "pygments_lexer": "ipython3",
      "version": "3.10.6"
    }
  },
  "nbformat": 4,
  "nbformat_minor": 0
}
